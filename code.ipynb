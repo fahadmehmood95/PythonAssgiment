{
 "cells": [
  {
   "cell_type": "markdown",
   "metadata": {},
   "source": []
  },
  {
   "cell_type": "code",
   "execution_count": 94,
   "metadata": {},
   "outputs": [
    {
     "data": {
      "text/plain": [
       "type     genre               \n",
       "Movie    Dramas                  1384\n",
       "         Comedies                1074\n",
       "         Documentaries            751\n",
       "         Action                   721\n",
       "         Children                 502\n",
       "         Stand-Up                 321\n",
       "         Horror Movies            244\n",
       "         International Movies     114\n",
       "         Classic Movies            77\n",
       "         Uncategorized             56\n",
       "         Thrillers                 49\n",
       "         Independent Movies        20\n",
       "         Anime Features            19\n",
       "         Music                     17\n",
       "         Cult Movies               12\n",
       "         Sci-Fi                    11\n",
       "         Romantic Movies            3\n",
       "         LGBTQ Movies               1\n",
       "         Sports Movies              1\n",
       "TV Show  International TV         690\n",
       "         Crime TV                 369\n",
       "         Kids                     359\n",
       "         British TV               232\n",
       "         Docuseries               194\n",
       "         Anime Series             148\n",
       "         TV Comedies              110\n",
       "         Reality TV               102\n",
       "         TV Dramas                 62\n",
       "         TV Action                 37\n",
       "         Stand-Up                  33\n",
       "         Romantic TV               28\n",
       "         Classic                   21\n",
       "         TV Shows                  12\n",
       "         TV Horror                 10\n",
       "         Spanish-Language           2\n",
       "         TV Sci                     1\n",
       "Name: genre, dtype: int64"
      ]
     },
     "execution_count": 94,
     "metadata": {},
     "output_type": "execute_result"
    }
   ],
   "source": [
    "import pandas as pd\n",
    "import numpy as np\n",
    "\n",
    "df = pd.read_csv(\"netflix_data.csv\");\n",
    "df.head(n=20)\n",
    "\n",
    "# attack_V = I[\"Attack\"].mean()\n",
    "\n",
    "\n",
    "# Question 1\n",
    "df[\"cast\"] = df['cast'].replace(np.nan, \"None\")\n",
    "\n",
    "\n",
    "def set_cast(val):\n",
    "    if val is None:\n",
    "        return 0\n",
    "    if val == 'None':\n",
    "        return 0\n",
    "    return len(val.split(', '))\n",
    "\n",
    "\n",
    "\n",
    "\n",
    "\n",
    "\n",
    "\n",
    "\n",
    "df[\"num_of_cast\"] = df[\"cast\"].apply(set_cast)\n",
    "df\n",
    "\n",
    "\n",
    "# Question 2\n",
    "\n",
    "\n",
    "df.groupby(\"type\")[\"genre\"].value_counts()\n",
    "\n",
    " \n",
    " \n",
    " \n",
    "\n",
    "\n",
    "\n",
    "\n",
    "\n",
    "\n",
    "\n"
   ]
  },
  {
   "cell_type": "code",
   "execution_count": null,
   "metadata": {},
   "outputs": [],
   "source": []
  }
 ],
 "metadata": {
  "interpreter": {
   "hash": "31f2aee4e71d21fbe5cf8b01ff0e069b9275f58929596ceb00d14d90e3e16cd6"
  },
  "kernelspec": {
   "display_name": "Python 3.8.9 64-bit",
   "name": "python3"
  },
  "language_info": {
   "codemirror_mode": {
    "name": "ipython",
    "version": 3
   },
   "file_extension": ".py",
   "mimetype": "text/x-python",
   "name": "python",
   "nbconvert_exporter": "python",
   "pygments_lexer": "ipython3",
   "version": "3.8.9"
  },
  "orig_nbformat": 4
 },
 "nbformat": 4,
 "nbformat_minor": 2
}
